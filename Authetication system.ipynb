{
 "cells": [
  {
   "cell_type": "code",
   "execution_count": 5,
   "id": "d1ecf319",
   "metadata": {},
   "outputs": [
    {
     "name": "stdout",
     "output_type": "stream",
     "text": [
      "Enter your username: yugjbj\n",
      "Enter your new password: OPqu@@7890\n",
      "Password is valid.\n"
     ]
    }
   ],
   "source": [
    "def count_characters(a):\n",
    "    count = {}\n",
    "    for char in a:\n",
    "        count[char] = count.get(char, 0) + 1\n",
    "    return count\n",
    "\n",
    "def consecutive_sequence(a, username):\n",
    "    for i in range(len(a) - 2):\n",
    "        if username in a[i:i+3]:\n",
    "            return True\n",
    "    return False\n",
    "\n",
    "def repeating_characters(a):\n",
    "    for i in range(len(a) - 2):\n",
    "        if a[i] == a[i+1] == a[i+2]:\n",
    "            return True\n",
    "    return False\n",
    "\n",
    "def valid_password(password, username, last_three_passwords):\n",
    "    if len(password) < 10:\n",
    "        return False, \"Password must be at least 10 characters long.\"\n",
    "\n",
    "    uppercase_count = sum(1 for char in password if char.isupper())\n",
    "    if uppercase_count < 2:\n",
    "        return False, \"Password must contain at least two uppercase letters.\"\n",
    "\n",
    "    lowercase_count = sum(1 for char in password if char.islower())\n",
    "    if lowercase_count < 2:\n",
    "        return False, \"Password must contain at least two lowercase letters.\"\n",
    "\n",
    "    digit_count = sum(1 for char in password if char.isdigit())\n",
    "    if digit_count < 2:\n",
    "        return False, \"Password must contain at least two digits.\"\n",
    "    \n",
    "    specialchr1_count = sum(1 for char in password if not char.isalnum())\n",
    "    if specialchr1_count < 2:\n",
    "        return False, \"Password must contain at least two special characters.\"\n",
    "\n",
    "    if consecutive_sequence(password, username):\n",
    "        return False, \"Password cannot contain three or more consecutive characters from the username.\"\n",
    "    if repeating_characters(password):\n",
    "        return False, \"Password cannot contain a character repeating more than three times in a row.\"\n",
    "\n",
    "    if password in last_three_passwords:\n",
    "        return False, \"Password cannot be the same as any of the last three passwords.\"\n",
    "\n",
    "    return True, \"Password is valid.\"\n",
    "\n",
    "def main():\n",
    "    username = input(\"Enter your username: \")\n",
    "    last_three_passwords = []\n",
    "\n",
    "    while True:\n",
    "        password = input(\"Enter your new password: \")\n",
    "\n",
    "        is_valid, message = valid_password(password, username, last_three_passwords)\n",
    "        if is_valid:\n",
    "            print(\"Password is valid.\")\n",
    "            break\n",
    "        else:\n",
    "            print(\"Password is invalid:\", message)\n",
    "\n",
    "    last_three_passwords.append(password)\n",
    "    if len(last_three_passwords) > 3:\n",
    "        last_three_passwords.pop(0)\n",
    "\n",
    "if __name__ == \"__main__\":\n",
    "    main()\n"
   ]
  },
  {
   "cell_type": "code",
   "execution_count": null,
   "id": "5e5d99fd",
   "metadata": {},
   "outputs": [],
   "source": []
  }
 ],
 "metadata": {
  "kernelspec": {
   "display_name": "Python 3 (ipykernel)",
   "language": "python",
   "name": "python3"
  },
  "language_info": {
   "codemirror_mode": {
    "name": "ipython",
    "version": 3
   },
   "file_extension": ".py",
   "mimetype": "text/x-python",
   "name": "python",
   "nbconvert_exporter": "python",
   "pygments_lexer": "ipython3",
   "version": "3.11.5"
  }
 },
 "nbformat": 4,
 "nbformat_minor": 5
}
